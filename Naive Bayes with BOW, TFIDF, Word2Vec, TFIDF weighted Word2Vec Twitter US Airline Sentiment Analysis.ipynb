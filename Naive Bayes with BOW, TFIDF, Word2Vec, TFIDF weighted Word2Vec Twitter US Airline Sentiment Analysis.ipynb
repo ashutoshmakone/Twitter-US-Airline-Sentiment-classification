{
 "cells": [
  {
   "cell_type": "markdown",
   "metadata": {},
   "source": [
    "# Naive Bayes with BOW, TFIDF, Word2Vec, TFIDF weighted Word2Vec for Twitter US Airline Sentiment Analysis"
   ]
  },
  {
   "cell_type": "code",
   "execution_count": 1,
   "metadata": {},
   "outputs": [],
   "source": [
    "import seaborn as sns\n",
    "import matplotlib.pyplot as plt\n",
    "plt.style.use(\"dark_background\")\n",
    "sns.set_palette(\"dark\")\n",
    "import warnings\n",
    "warnings.filterwarnings('ignore')"
   ]
  },
  {
   "cell_type": "code",
   "execution_count": 2,
   "metadata": {},
   "outputs": [],
   "source": [
    "import pandas as pd\n",
    "import numpy as np\n",
    "from sklearn.feature_extraction.text import TfidfVectorizer\n",
    "from sklearn.feature_extraction.text import CountVectorizer\n",
    "from gensim.models import Word2Vec"
   ]
  },
  {
   "cell_type": "code",
   "execution_count": 3,
   "metadata": {},
   "outputs": [],
   "source": [
    "from sklearn.metrics import classification_report, confusion_matrix\n",
    "from sklearn.metrics import roc_auc_score,accuracy_score,recall_score\n",
    "from sklearn.metrics import roc_curve\n",
    "from sklearn.model_selection import train_test_split\n",
    "from sklearn.naive_bayes import GaussianNB\n",
    "from sklearn.model_selection import StratifiedKFold\n"
   ]
  },
  {
   "cell_type": "code",
   "execution_count": 4,
   "metadata": {
    "scrolled": false
   },
   "outputs": [
    {
     "data": {
      "text/html": [
       "<div>\n",
       "<style scoped>\n",
       "    .dataframe tbody tr th:only-of-type {\n",
       "        vertical-align: middle;\n",
       "    }\n",
       "\n",
       "    .dataframe tbody tr th {\n",
       "        vertical-align: top;\n",
       "    }\n",
       "\n",
       "    .dataframe thead th {\n",
       "        text-align: right;\n",
       "    }\n",
       "</style>\n",
       "<table border=\"1\" class=\"dataframe\">\n",
       "  <thead>\n",
       "    <tr style=\"text-align: right;\">\n",
       "      <th></th>\n",
       "      <th>tweet_id</th>\n",
       "      <th>airline_sentiment</th>\n",
       "      <th>negativereason</th>\n",
       "      <th>airline</th>\n",
       "      <th>text_clean</th>\n",
       "    </tr>\n",
       "  </thead>\n",
       "  <tbody>\n",
       "    <tr>\n",
       "      <th>0</th>\n",
       "      <td>570306133677760513</td>\n",
       "      <td>0</td>\n",
       "      <td>NaN</td>\n",
       "      <td>Virgin America</td>\n",
       "      <td>dhepburn said</td>\n",
       "    </tr>\n",
       "    <tr>\n",
       "      <th>1</th>\n",
       "      <td>570301130888122368</td>\n",
       "      <td>0</td>\n",
       "      <td>NaN</td>\n",
       "      <td>Virgin America</td>\n",
       "      <td>plus added commercials experience tacky</td>\n",
       "    </tr>\n",
       "    <tr>\n",
       "      <th>2</th>\n",
       "      <td>570301083672813571</td>\n",
       "      <td>0</td>\n",
       "      <td>NaN</td>\n",
       "      <td>Virgin America</td>\n",
       "      <td>not today must mean need take another trip</td>\n",
       "    </tr>\n",
       "    <tr>\n",
       "      <th>3</th>\n",
       "      <td>570301031407624196</td>\n",
       "      <td>1</td>\n",
       "      <td>Bad Flight</td>\n",
       "      <td>Virgin America</td>\n",
       "      <td>really aggressive blast obnoxious entertainmen...</td>\n",
       "    </tr>\n",
       "    <tr>\n",
       "      <th>4</th>\n",
       "      <td>570300817074462722</td>\n",
       "      <td>1</td>\n",
       "      <td>Can't Tell</td>\n",
       "      <td>Virgin America</td>\n",
       "      <td>really big bad thing</td>\n",
       "    </tr>\n",
       "  </tbody>\n",
       "</table>\n",
       "</div>"
      ],
      "text/plain": [
       "             tweet_id  airline_sentiment negativereason         airline  \\\n",
       "0  570306133677760513                  0            NaN  Virgin America   \n",
       "1  570301130888122368                  0            NaN  Virgin America   \n",
       "2  570301083672813571                  0            NaN  Virgin America   \n",
       "3  570301031407624196                  1     Bad Flight  Virgin America   \n",
       "4  570300817074462722                  1     Can't Tell  Virgin America   \n",
       "\n",
       "                                          text_clean  \n",
       "0                                      dhepburn said  \n",
       "1            plus added commercials experience tacky  \n",
       "2         not today must mean need take another trip  \n",
       "3  really aggressive blast obnoxious entertainmen...  \n",
       "4                               really big bad thing  "
      ]
     },
     "execution_count": 4,
     "metadata": {},
     "output_type": "execute_result"
    }
   ],
   "source": [
    "twDF = pd.read_csv(\"Dataset/tweets_preprocessed.csv\").drop(['Unnamed: 0'],axis=1)\n",
    "twDF.head()"
   ]
  },
  {
   "cell_type": "code",
   "execution_count": 5,
   "metadata": {},
   "outputs": [
    {
     "data": {
      "text/plain": [
       "(14519, 5)"
      ]
     },
     "execution_count": 5,
     "metadata": {},
     "output_type": "execute_result"
    }
   ],
   "source": [
    "twDF.shape"
   ]
  },
  {
   "cell_type": "code",
   "execution_count": 6,
   "metadata": {
    "scrolled": false
   },
   "outputs": [
    {
     "data": {
      "text/plain": [
       "1    9113\n",
       "0    5406\n",
       "Name: airline_sentiment, dtype: int64"
      ]
     },
     "execution_count": 6,
     "metadata": {},
     "output_type": "execute_result"
    }
   ],
   "source": [
    "twDF[\"airline_sentiment\"].value_counts()"
   ]
  },
  {
   "cell_type": "markdown",
   "metadata": {},
   "source": [
    "It is an imbalanced dataset"
   ]
  },
  {
   "cell_type": "code",
   "execution_count": 7,
   "metadata": {},
   "outputs": [
    {
     "data": {
      "text/plain": [
       "(0, 5)"
      ]
     },
     "execution_count": 7,
     "metadata": {},
     "output_type": "execute_result"
    }
   ],
   "source": [
    "twDF.loc[twDF['text_clean'].isnull()].shape"
   ]
  },
  {
   "cell_type": "code",
   "execution_count": 8,
   "metadata": {},
   "outputs": [],
   "source": [
    "#Removing records with Null values\n",
    "twDF=twDF.loc[twDF['text_clean'].notnull()]"
   ]
  },
  {
   "cell_type": "code",
   "execution_count": 9,
   "metadata": {},
   "outputs": [
    {
     "data": {
      "text/plain": [
       "(14519, 5)"
      ]
     },
     "execution_count": 9,
     "metadata": {},
     "output_type": "execute_result"
    }
   ],
   "source": [
    "twDF.shape"
   ]
  },
  {
   "cell_type": "code",
   "execution_count": 10,
   "metadata": {},
   "outputs": [],
   "source": [
    "# twDF.to_csv(\"Dataset/tweets_preprocessed.csv\")"
   ]
  },
  {
   "cell_type": "code",
   "execution_count": 11,
   "metadata": {},
   "outputs": [],
   "source": [
    "y = twDF['airline_sentiment'].values\n",
    "X = twDF[['text_clean']]\n",
    "X_train, X_test, y_train, y_test = train_test_split(X, y, test_size=0.30, stratify=y)"
   ]
  },
  {
   "cell_type": "markdown",
   "metadata": {},
   "source": [
    "## Naive Bayes with Bag of words "
   ]
  },
  {
   "cell_type": "code",
   "execution_count": 94,
   "metadata": {},
   "outputs": [
    {
     "name": "stdout",
     "output_type": "stream",
     "text": [
      "(10163, 1) (10163,)\n",
      "(4356, 1) (4356,)\n",
      "====================================================================================================\n",
      "After vectorizations\n",
      "(10163, 16254) (10163,)\n",
      "(4356, 16254) (4356,)\n",
      "====================================================================================================\n"
     ]
    }
   ],
   "source": [
    "# Getting BOW \n",
    "print(X_train.shape, y_train.shape)\n",
    "print(X_test.shape, y_test.shape)\n",
    "print(\"=\"*100)\n",
    "\n",
    "vectorizer = CountVectorizer(min_df=2,ngram_range=(1,4))\n",
    "vectorizer.fit(X_train['text_clean'])\n",
    "X_train_bow = vectorizer.transform(X_train['text_clean'].values)\n",
    "X_test_bow = vectorizer.transform(X_test['text_clean'].values)\n",
    "\n",
    "print(\"After vectorizations\")\n",
    "print(X_train_bow.shape, y_train.shape)\n",
    "print(X_test_bow.shape, y_test.shape)\n",
    "print(\"=\"*100)"
   ]
  },
  {
   "cell_type": "code",
   "execution_count": 95,
   "metadata": {},
   "outputs": [
    {
     "data": {
      "text/plain": [
       "(10163, 16254)"
      ]
     },
     "execution_count": 95,
     "metadata": {},
     "output_type": "execute_result"
    }
   ],
   "source": [
    "X_train_bow.shape"
   ]
  },
  {
   "cell_type": "code",
   "execution_count": 96,
   "metadata": {},
   "outputs": [],
   "source": [
    "X_train_bow=X_train_bow.toarray()\n",
    "X_test_bow=X_test_bow.toarray()"
   ]
  },
  {
   "cell_type": "code",
   "execution_count": 97,
   "metadata": {
    "scrolled": true
   },
   "outputs": [
    {
     "name": "stdout",
     "output_type": "stream",
     "text": [
      "Confusion matrix\n",
      "[[1223  399]\n",
      " [ 676 2058]]\n",
      "              precision    recall  f1-score   support\n",
      "\n",
      "           0       0.64      0.75      0.69      1622\n",
      "           1       0.84      0.75      0.79      2734\n",
      "\n",
      "    accuracy                           0.75      4356\n",
      "   macro avg       0.74      0.75      0.74      4356\n",
      "weighted avg       0.77      0.75      0.76      4356\n",
      "\n",
      "AUC score for NB is  0.7533753158157269\n",
      "Train Recall score for NB is  0.8998275591785546\n",
      "Test Recall score for NB is  0.7527432333577176\n"
     ]
    }
   ],
   "source": [
    "gnb = GaussianNB()\n",
    "gnb.fit(X_train_bow, y_train)\n",
    "pred = gnb.predict(X_test_bow)\n",
    "accNB = accuracy_score(y_test, pred)\n",
    "y_pred_prob = gnb.predict_proba(X_test_bow)\n",
    "aucScoreBOW = roc_auc_score(y_test,  y_pred_prob[:,1])\n",
    "fprBOW, tprBOW, thresholds = roc_curve(y_test, y_pred_prob[:,1] )\n",
    "print(\"Confusion matrix\")\n",
    "print(confusion_matrix(y_test,pred))\n",
    "print(classification_report(y_test,pred))\n",
    "print(\"AUC score for NB is \",aucScoreBOW)\n",
    "predT=gnb.predict(X_train_bow)\n",
    "print(\"Train Recall score for NB is \",recall_score(y_train, predT))\n",
    "print(\"Test Recall score for NB is \",recall_score(y_test, pred))\n"
   ]
  },
  {
   "cell_type": "markdown",
   "metadata": {},
   "source": [
    "**Observations:**\n",
    "\n",
    "1.The test score of 0.7527 is fairly good\n",
    "\n",
    "2.But the model is quite overfitting"
   ]
  },
  {
   "cell_type": "markdown",
   "metadata": {},
   "source": [
    "## Naive Bayes with TFIDF"
   ]
  },
  {
   "cell_type": "code",
   "execution_count": 91,
   "metadata": {},
   "outputs": [
    {
     "name": "stdout",
     "output_type": "stream",
     "text": [
      "(10163, 1) (10163,)\n",
      "(4356, 1) (4356,)\n",
      "====================================================================================================\n",
      "After vectorizations\n",
      "(10163, 16254) (10163,)\n",
      "(4356, 16254) (4356,)\n",
      "====================================================================================================\n"
     ]
    }
   ],
   "source": [
    "print(X_train.shape, y_train.shape)\n",
    "print(X_test.shape, y_test.shape)\n",
    "print(\"=\"*100)\n",
    "vectorizer = TfidfVectorizer(min_df=2,ngram_range=(1,4))\n",
    "vectorizer.fit(X_train['text_clean'])\n",
    "X_train_tfidf = vectorizer.transform(X_train['text_clean'].values)\n",
    "X_test_tfidf = vectorizer.transform(X_test['text_clean'].values)\n",
    "print(\"After vectorizations\")\n",
    "print(X_train_tfidf.shape, y_train.shape)\n",
    "print(X_test_tfidf.shape, y_test.shape)\n",
    "print(\"=\"*100)\n"
   ]
  },
  {
   "cell_type": "code",
   "execution_count": 92,
   "metadata": {},
   "outputs": [],
   "source": [
    "X_train_tfidf=X_train_tfidf.toarray()\n",
    "X_test_tfidf=X_test_tfidf.toarray()"
   ]
  },
  {
   "cell_type": "code",
   "execution_count": 93,
   "metadata": {
    "scrolled": true
   },
   "outputs": [
    {
     "name": "stdout",
     "output_type": "stream",
     "text": [
      "Confusion matrix\n",
      "[[1203  419]\n",
      " [ 668 2066]]\n",
      "              precision    recall  f1-score   support\n",
      "\n",
      "           0       0.64      0.74      0.69      1622\n",
      "           1       0.83      0.76      0.79      2734\n",
      "\n",
      "    accuracy                           0.75      4356\n",
      "   macro avg       0.74      0.75      0.74      4356\n",
      "weighted avg       0.76      0.75      0.75      4356\n",
      "\n",
      "AUC score for NB is  0.7486731454930694\n",
      "Train Recall score for NB is  0.8998275591785546\n",
      "Test Recall score for NB is  0.7556693489392831\n"
     ]
    }
   ],
   "source": [
    "\n",
    "gnb = GaussianNB()\n",
    "gnb.fit(X_train_tfidf, y_train)\n",
    "pred = gnb.predict(X_test_tfidf)\n",
    "accNB = accuracy_score(y_test, pred)\n",
    "y_pred_prob = gnb.predict_proba(X_test_tfidf)\n",
    "aucScoreTFIDF = roc_auc_score(y_test,  y_pred_prob[:,1])\n",
    "fprTFIDF, tprTFIDF, thresholds = roc_curve(y_test, y_pred_prob[:,1] )\n",
    "print(\"Confusion matrix\")\n",
    "print(confusion_matrix(y_test,pred))\n",
    "print(classification_report(y_test,pred))\n",
    "print(\"AUC score for NB is \",aucScoreTFIDF)\n",
    "#print(\"Test Accuracy score for NB is \",accuracy_score(y_test, pred))\n",
    "predT=gnb.predict(X_train_tfidf)\n",
    "#print(\"Train Accuracy score for NB is \",accuracy_score(y_train, predT))\n",
    "#print(\"Best parameters for NB are \",gnb.best_params_)\n",
    "print(\"Train Recall score for NB is \",recall_score(y_train, predT))\n",
    "print(\"Test Recall score for NB is \",recall_score(y_test, pred))"
   ]
  },
  {
   "cell_type": "markdown",
   "metadata": {},
   "source": [
    "**Observations:**\n",
    "\n",
    "1.The test score of 0.7557 is fairly good\n",
    "\n",
    "2.It is very close to result of BOW\n",
    "\n",
    "3.This model is also quite overfitting"
   ]
  },
  {
   "cell_type": "markdown",
   "metadata": {},
   "source": [
    "The Area Under the Curve (AUC) is the measure of the ability of a classifier to distinguish between classes"
   ]
  },
  {
   "cell_type": "markdown",
   "metadata": {},
   "source": [
    "## Modeling with Word2Vec"
   ]
  },
  {
   "cell_type": "code",
   "execution_count": 98,
   "metadata": {},
   "outputs": [],
   "source": [
    "i=0\n",
    "list_of_sentance=[]\n",
    "for sentance in twDF['text_clean']:\n",
    "    list_of_sentance.append(sentance.split())\n",
    "\n",
    "\n",
    "w2v_model=Word2Vec(list_of_sentance,min_count=1,size=300, workers=4)\n",
    "w2v_words = list(w2v_model.wv.vocab)"
   ]
  },
  {
   "cell_type": "code",
   "execution_count": 99,
   "metadata": {},
   "outputs": [
    {
     "data": {
      "text/plain": [
       "[['dhepburn', 'said'],\n",
       " ['plus', 'added', 'commercials', 'experience', 'tacky'],\n",
       " ['not', 'today', 'must', 'mean', 'need', 'take', 'another', 'trip']]"
      ]
     },
     "execution_count": 99,
     "metadata": {},
     "output_type": "execute_result"
    }
   ],
   "source": [
    "list_of_sentance[:3]"
   ]
  },
  {
   "cell_type": "code",
   "execution_count": 100,
   "metadata": {},
   "outputs": [
    {
     "name": "stderr",
     "output_type": "stream",
     "text": [
      "100%|██████████████████████████████████████████████████████████████████████████| 14519/14519 [00:09<00:00, 1571.00it/s]\n"
     ]
    },
    {
     "name": "stdout",
     "output_type": "stream",
     "text": [
      "14519\n",
      "300\n"
     ]
    }
   ],
   "source": [
    "from tqdm import tqdm \n",
    "# average Word2Vec\n",
    "# compute average word2vec for each tweet.\n",
    "sent_vectors = []; # the avg-w2v for each sentence/review is stored in this list\n",
    "for sent in tqdm(list_of_sentance): # for each tweet/sentence\n",
    "    sent_vec = np.zeros(300)\n",
    "    cnt_words =0; # num of words with a valid vector in the sentence/tweet\n",
    "    for word in sent: # for each word in a tweet/sentence\n",
    "        if word in w2v_words:\n",
    "            vec = w2v_model.wv[word]\n",
    "            sent_vec += vec\n",
    "            cnt_words += 1\n",
    "    if cnt_words != 0:\n",
    "        sent_vec /= cnt_words\n",
    "    sent_vectors.append(sent_vec)\n",
    "print(len(sent_vectors))\n",
    "print(len(sent_vectors[0]))"
   ]
  },
  {
   "cell_type": "code",
   "execution_count": 101,
   "metadata": {},
   "outputs": [
    {
     "name": "stdout",
     "output_type": "stream",
     "text": [
      "x shape= (14519, 300)   y shape= (14519,)\n"
     ]
    }
   ],
   "source": [
    "X=np.array(sent_vectors)\n",
    "y = twDF['airline_sentiment'].values\n",
    "print(\"x shape=\",X.shape,\"  y shape=\",y.shape)"
   ]
  },
  {
   "cell_type": "code",
   "execution_count": 102,
   "metadata": {},
   "outputs": [],
   "source": [
    "# train test split\n",
    "X_train, X_test, y_train, y_test = train_test_split(X, y, test_size=0.30, stratify=y)"
   ]
  },
  {
   "cell_type": "code",
   "execution_count": 103,
   "metadata": {},
   "outputs": [
    {
     "name": "stdout",
     "output_type": "stream",
     "text": [
      "Confusion matrix\n",
      "[[ 693  929]\n",
      " [ 530 2204]]\n",
      "              precision    recall  f1-score   support\n",
      "\n",
      "           0       0.57      0.43      0.49      1622\n",
      "           1       0.70      0.81      0.75      2734\n",
      "\n",
      "    accuracy                           0.67      4356\n",
      "   macro avg       0.64      0.62      0.62      4356\n",
      "weighted avg       0.65      0.67      0.65      4356\n",
      "\n",
      "AUC score for NB is  0.6471190524941888\n",
      "Train Recall score for NB is  0.7976171813763913\n",
      "Test Recall score for NB is  0.8061448427212875\n"
     ]
    }
   ],
   "source": [
    "gnb = GaussianNB()\n",
    "gnb.fit(X_train, y_train)\n",
    "pred = gnb.predict(X_test)\n",
    "accNB = accuracy_score(y_test, pred)\n",
    "y_pred_prob = gnb.predict_proba(X_test)\n",
    "aucScoreWORD2VEC = roc_auc_score(y_test,  y_pred_prob[:,1])\n",
    "fprWORD2VEC, tprWORD2VEC, thresholds = roc_curve(y_test, y_pred_prob[:,1] )\n",
    "print(\"Confusion matrix\")\n",
    "print(confusion_matrix(y_test,pred))\n",
    "print(classification_report(y_test,pred))\n",
    "print(\"AUC score for NB is \",aucScoreWORD2VEC)\n",
    "predT=gnb.predict(X_train)\n",
    "print(\"Train Recall score for NB is \",recall_score(y_train, predT))\n",
    "print(\"Test Recall score for NB is \",recall_score(y_test, pred))\n"
   ]
  },
  {
   "cell_type": "markdown",
   "metadata": {},
   "source": [
    "**Observations:**\n",
    "\n",
    "1.The test score of 0.8061 is better than BOW and TFIDF\n",
    "\n",
    "2.But the model is not overfitting\n",
    "\n",
    "3.But the AUC is not as good"
   ]
  },
  {
   "cell_type": "markdown",
   "metadata": {},
   "source": [
    "# Modeling using TFIDF weighted word2vec"
   ]
  },
  {
   "cell_type": "code",
   "execution_count": 104,
   "metadata": {},
   "outputs": [],
   "source": [
    "tfidf_model = TfidfVectorizer()\n",
    "tfidf_model.fit(twDF['text_clean'].values)\n",
    "dictionary = dict(zip(tfidf_model.get_feature_names(), list(tfidf_model.idf_)))\n",
    "tfidf_words = set(tfidf_model.get_feature_names())"
   ]
  },
  {
   "cell_type": "code",
   "execution_count": 105,
   "metadata": {},
   "outputs": [
    {
     "name": "stderr",
     "output_type": "stream",
     "text": [
      "100%|██████████████████████████████████████████████████████████████████████████| 14519/14519 [00:12<00:00, 1180.39it/s]\n"
     ]
    },
    {
     "name": "stdout",
     "output_type": "stream",
     "text": [
      "14519\n",
      "300\n"
     ]
    }
   ],
   "source": [
    "# average Word2Vec\n",
    "from tqdm import tqdm \n",
    "\n",
    "# compute average word2vec for each tweet.\n",
    "tfidf_w2v_vectors = []; # the avg-w2v for each sentence/tweet is stored in this list\n",
    "for sentence in tqdm(twDF['text_clean'].values): # for each tweet/sentence\n",
    "    vector = np.zeros(300) # as word vectors are of zero length\n",
    "    tf_idf_weight =0; # num of words with a valid vector in the sentence/tweet\n",
    "    for word in sentence.split(): # for each word in a tweet/sentence\n",
    "        if (word in w2v_words) and (word in tfidf_words):\n",
    "            vec = w2v_model[word] # getting the vector for each word\n",
    "            tf_idf = dictionary[word]*(sentence.count(word)/len(sentence.split())) # getting the tfidf value for each word\n",
    "            vector += (vec * tf_idf) # calculating tfidf weighted w2v\n",
    "            tf_idf_weight += tf_idf\n",
    "    if tf_idf_weight != 0:\n",
    "        vector /= tf_idf_weight\n",
    "    tfidf_w2v_vectors.append(vector)\n",
    "\n",
    "print(len(tfidf_w2v_vectors))\n",
    "print(len(tfidf_w2v_vectors[0]))"
   ]
  },
  {
   "cell_type": "code",
   "execution_count": 106,
   "metadata": {},
   "outputs": [
    {
     "name": "stdout",
     "output_type": "stream",
     "text": [
      "x shape= (14519, 300)   y shape= (14519,)\n"
     ]
    }
   ],
   "source": [
    "X=np.array(tfidf_w2v_vectors)\n",
    "y = twDF['airline_sentiment'].values\n",
    "print(\"x shape=\",X.shape,\"  y shape=\",y.shape)"
   ]
  },
  {
   "cell_type": "code",
   "execution_count": 107,
   "metadata": {},
   "outputs": [],
   "source": [
    "# train test split\n",
    "X_train, X_test, y_train, y_test = train_test_split(X, y, test_size=0.30, stratify=y)"
   ]
  },
  {
   "cell_type": "code",
   "execution_count": 108,
   "metadata": {},
   "outputs": [
    {
     "name": "stdout",
     "output_type": "stream",
     "text": [
      "Confusion matrix\n",
      "[[ 709  913]\n",
      " [ 598 2136]]\n",
      "              precision    recall  f1-score   support\n",
      "\n",
      "           0       0.54      0.44      0.48      1622\n",
      "           1       0.70      0.78      0.74      2734\n",
      "\n",
      "    accuracy                           0.65      4356\n",
      "   macro avg       0.62      0.61      0.61      4356\n",
      "weighted avg       0.64      0.65      0.64      4356\n",
      "\n",
      "AUC score for NB is  0.6328320270746872\n",
      "Train Recall score for NB is  0.778805455400533\n",
      "Test Recall score for NB is  0.7812728602779809\n"
     ]
    }
   ],
   "source": [
    "gnb = GaussianNB()\n",
    "gnb.fit(X_train, y_train)\n",
    "pred = gnb.predict(X_test)\n",
    "accNB = accuracy_score(y_test, pred)\n",
    "y_pred_prob = gnb.predict_proba(X_test)\n",
    "aucScoreTFIDFWORD2VEC = roc_auc_score(y_test,  y_pred_prob[:,1])\n",
    "fprTFIDFWORD2VEC, tprTFIDFWORD2VEC, thresholds = roc_curve(y_test, y_pred_prob[:,1] )\n",
    "print(\"Confusion matrix\")\n",
    "print(confusion_matrix(y_test,pred))\n",
    "print(classification_report(y_test,pred))\n",
    "print(\"AUC score for NB is \",aucScoreTFIDFWORD2VEC)\n",
    "predT=gnb.predict(X_train)\n",
    "print(\"Train Recall score for NB is \",recall_score(y_train, predT))\n",
    "print(\"Test Recall score for NB is \",recall_score(y_test, pred))\n"
   ]
  },
  {
   "cell_type": "markdown",
   "metadata": {},
   "source": [
    "**Observations:**\n",
    "\n",
    "1.The test score of 0.78 is quite good\n",
    "\n",
    "2.It is very close to result of Word2vec\n",
    "\n",
    "3.This model is also not overfitting"
   ]
  },
  {
   "cell_type": "markdown",
   "metadata": {},
   "source": [
    "## ROC Curve"
   ]
  },
  {
   "cell_type": "code",
   "execution_count": 109,
   "metadata": {},
   "outputs": [],
   "source": [
    "result_table = pd.DataFrame(columns=['classifiers', 'fpr','tpr','auc'])\n",
    "\n",
    "result_table=result_table.append({'classifiers':\"Naive Bayer with BOW\",'fpr':fprBOW,'tpr':tprBOW,'auc':aucScoreBOW}, ignore_index=True)\n",
    "result_table=result_table.append({'classifiers':\"Naive Bayer with TFIDF\",'fpr':fprTFIDF,'tpr':tprTFIDF,'auc':aucScoreTFIDF}, ignore_index=True)\n",
    "result_table=result_table.append({'classifiers':\"Naive Bayer with W2V\",'fpr':fprWORD2VEC,'tpr':tprWORD2VEC,'auc':aucScoreWORD2VEC}, ignore_index=True)\n",
    "result_table=result_table.append({'classifiers':\"Naive Bayer with TFIDF weighted W2V\",'fpr':fprTFIDFWORD2VEC,'tpr':tprTFIDFWORD2VEC,'auc':aucScoreTFIDFWORD2VEC}, ignore_index=True)\n",
    "\n",
    "result_table.set_index('classifiers', inplace=True)"
   ]
  },
  {
   "cell_type": "code",
   "execution_count": 110,
   "metadata": {},
   "outputs": [
    {
     "data": {
      "image/png": "[encoded data removed]",
      "text/plain": [
       "<Figure size 432x288 with 1 Axes>"
      ]
     },
     "metadata": {},
     "output_type": "display_data"
    }
   ],
   "source": [
    "# https://abdalimran.github.io/2019-06-01/Drawing-multiple-ROC-Curves-in-a-single-plot\n",
    "sns.set()\n",
    "for i in result_table.index:\n",
    "    plt.plot(result_table.loc[i]['fpr'], \n",
    "             result_table.loc[i]['tpr'], \n",
    "             label=\"{}, AUC={:.2f}\".format(i, result_table.loc[i]['auc']))\n",
    "\n",
    "#fig = plt.figure(figsize=(8,6))\n",
    "ax = plt.gca()\n",
    "ax.set_facecolor('xkcd:black')\n",
    "ax.grid(False)\n",
    "\n",
    "plt.style.use(\"dark_background\")\n",
    "plt.plot([0,1], [0,1], color='orange')\n",
    "plt.xlabel(\"Flase Positive Rate\")\n",
    "plt.ylabel(\"True Positive Rate\")\n",
    "plt.title('ROC Curve Analysis')\n",
    "plt.legend(bbox_to_anchor=(2.1, 1), loc='upper right')\n",
    "plt.show()"
   ]
  },
  {
   "cell_type": "markdown",
   "metadata": {},
   "source": [
    "## Best so far"
   ]
  },
  {
   "cell_type": "markdown",
   "metadata": {},
   "source": [
    "**Observations:**\n",
    "\n",
    "1.Recall score ---> BOW:0.75274, TFIDF:0.7556, Word2Vec:0.8061 , TFIDF weighted Word2Vec:0.78127.\n",
    "\n",
    "2.BOW and TFIDF models are overfitting a lot\n",
    "\n",
    "3.The Naive Bayes model with word2vec has given the best recall of 0.8061 so far.\n",
    "\n",
    "4.Next We will try LSTM and compare results."
   ]
  },
  {
   "cell_type": "code",
   "execution_count": null,
   "metadata": {},
   "outputs": [],
   "source": []
  }
 ],
 "metadata": {
  "kernelspec": {
   "display_name": "Python 3",
   "language": "python",
   "name": "python3"
  },
  "language_info": {
   "codemirror_mode": {
    "name": "ipython",
    "version": 3
   },
   "file_extension": ".py",
   "mimetype": "text/x-python",
   "name": "python",
   "nbconvert_exporter": "python",
   "pygments_lexer": "ipython3",
   "version": "3.7.3"
  }
 },
 "nbformat": 4,
 "nbformat_minor": 2
}
